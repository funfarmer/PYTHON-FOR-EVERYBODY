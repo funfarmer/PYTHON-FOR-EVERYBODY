{
  "cells": [
    {
      "cell_type": "markdown",
      "metadata": {
        "id": "view-in-github",
        "colab_type": "text"
      },
      "source": [
        "<a href=\"https://colab.research.google.com/github/funfarmer/PYTHON-FOR-EVERYBODY/blob/master/intro_pytorch_data.ipynb\" target=\"_parent\"><img src=\"https://colab.research.google.com/assets/colab-badge.svg\" alt=\"Open In Colab\"/></a>"
      ]
    },
    {
      "cell_type": "markdown",
      "metadata": {
        "id": "1eK3MNelR04m"
      },
      "source": [
        "### Objectives\n",
        "\n",
        "- Compute Neural Network forward pass by hand\n",
        "- Use `pytorch` to build regression model\n",
        "- Use `pytorch` to build classification models\n",
        "- Understand how to use the `Dataset` and DataLoader` objects in `pytorch`"
      ]
    },
    {
      "cell_type": "code",
      "source": [],
      "metadata": {
        "id": "TAiXwVTKCKwJ"
      },
      "execution_count": null,
      "outputs": []
    },
    {
      "cell_type": "code",
      "execution_count": null,
      "metadata": {
        "id": "3LI6ZY5G754F"
      },
      "outputs": [],
      "source": [
        "import torch\n",
        "import torch.nn as nn\n",
        "from torch.utils import data\n",
        "from torch.utils.data import Dataset, DataLoader\n",
        "import numpy as np\n",
        "import matplotlib.pyplot as plt"
      ]
    },
    {
      "cell_type": "markdown",
      "metadata": {
        "id": "iYDWA_w4J0q2"
      },
      "source": [
        "#### Regression with `pytorch`"
      ]
    },
    {
      "cell_type": "code",
      "execution_count": null,
      "metadata": {
        "id": "woJi7gdGJz2_"
      },
      "outputs": [],
      "source": [
        "X = torch.randn(100, 1)*10\n",
        "y = X + torch.randn(100, 1)*2.5"
      ]
    },
    {
      "cell_type": "code",
      "execution_count": null,
      "metadata": {
        "id": "-4B8nlBCJzki"
      },
      "outputs": [],
      "source": [
        "plt.scatter(X, y)"
      ]
    },
    {
      "cell_type": "code",
      "execution_count": null,
      "metadata": {
        "id": "IGww7g4HK31P"
      },
      "outputs": [],
      "source": [
        "model = nn.Linear(in_features = 1, out_features = 1)"
      ]
    },
    {
      "cell_type": "code",
      "execution_count": null,
      "metadata": {
        "id": "lk4N0l9GK8IL"
      },
      "outputs": [],
      "source": [
        "print(model.bias, model.weight)"
      ]
    },
    {
      "cell_type": "code",
      "execution_count": null,
      "metadata": {
        "id": "Tib64PN5LFP9"
      },
      "outputs": [],
      "source": [
        "x = torch.tensor([5.0])"
      ]
    },
    {
      "cell_type": "code",
      "execution_count": null,
      "metadata": {
        "id": "Me9oGMAHLH1j"
      },
      "outputs": [],
      "source": [
        "model(x)"
      ]
    },
    {
      "cell_type": "code",
      "execution_count": null,
      "metadata": {
        "id": "nop-CutMLLrJ"
      },
      "outputs": [],
      "source": [
        "model.weight*5 + model.bias"
      ]
    },
    {
      "cell_type": "code",
      "execution_count": null,
      "metadata": {
        "id": "fFYk1nxXr9zH"
      },
      "outputs": [],
      "source": [
        "#using the sequential approach\n",
        "model = nn.Sequential(nn.Linear(1, 1))"
      ]
    },
    {
      "cell_type": "code",
      "execution_count": null,
      "metadata": {
        "id": "EU0KqL-_r9uB"
      },
      "outputs": [],
      "source": [
        "model(x)"
      ]
    },
    {
      "cell_type": "code",
      "execution_count": null,
      "metadata": {
        "id": "uLSdEuGTu7mx"
      },
      "outputs": [],
      "source": [
        "import torch.nn as nn"
      ]
    },
    {
      "cell_type": "code",
      "execution_count": null,
      "metadata": {
        "id": "owTO2mP_Jzhu"
      },
      "outputs": [],
      "source": [
        "class LinearRegression(nn.Module):\n",
        "  def __init__(self, input_size, output_size):\n",
        "    super().__init__()\n",
        "    self.linear = nn.Linear(input_size, output_size)\n",
        "\n",
        "  def forward(self, x):\n",
        "    return self.linear(x)"
      ]
    },
    {
      "cell_type": "code",
      "execution_count": null,
      "metadata": {
        "id": "Br4Yo1RgJzeZ"
      },
      "outputs": [],
      "source": [
        "lr = LinearRegression(2, 1)"
      ]
    },
    {
      "cell_type": "code",
      "execution_count": null,
      "metadata": {
        "id": "0CyaytpDJzbO"
      },
      "outputs": [],
      "source": [
        "list(lr.parameters())"
      ]
    },
    {
      "cell_type": "code",
      "execution_count": null,
      "metadata": {
        "id": "uMyLCcl_JzYR"
      },
      "outputs": [],
      "source": [
        "x = torch.tensor([[3.2, 1.1]])"
      ]
    },
    {
      "cell_type": "code",
      "execution_count": null,
      "metadata": {
        "id": "S_3TaSwdJzVa"
      },
      "outputs": [],
      "source": [
        "lr.forward(x)"
      ]
    },
    {
      "cell_type": "code",
      "execution_count": null,
      "metadata": {
        "id": "qdIe1b6pJzTC"
      },
      "outputs": [],
      "source": [
        "lr = LinearRegression(1, 1) # model"
      ]
    },
    {
      "cell_type": "code",
      "execution_count": null,
      "metadata": {
        "id": "f56E3TbGJzPz"
      },
      "outputs": [],
      "source": [
        "criterion = nn.MSELoss() # loss"
      ]
    },
    {
      "cell_type": "code",
      "execution_count": null,
      "metadata": {
        "id": "0deVlHQYXbcP"
      },
      "outputs": [],
      "source": [
        "X =( X - X.mean() )/ X.std()"
      ]
    },
    {
      "cell_type": "code",
      "execution_count": null,
      "metadata": {
        "id": "JDmo6ykkJzNC"
      },
      "outputs": [],
      "source": [
        "optimizer = torch.optim.SGD(lr.parameters(), lr = 0.01) # optimizer"
      ]
    },
    {
      "cell_type": "code",
      "execution_count": null,
      "metadata": {
        "id": "w7evJ0kFJzKA"
      },
      "outputs": [],
      "source": [
        "epochs = 1000\n",
        "losses = []\n",
        "for i in range(epochs):\n",
        "  yhat = lr.forward(X)\n",
        "  loss = criterion(yhat, y)\n",
        "  if i%100 == 0:\n",
        "    print(f'Epoch {i}, loss {loss.item()}')\n",
        "  losses.append(loss)\n",
        "  optimizer.zero_grad()\n",
        "  loss.backward()\n",
        "  optimizer.step()"
      ]
    },
    {
      "cell_type": "code",
      "execution_count": null,
      "metadata": {
        "id": "-nLB8355JzHW"
      },
      "outputs": [],
      "source": [
        "#plot the losses\n",
        "plt.plot(range(epochs), [i.detach().numpy() for i in losses], '--r')"
      ]
    },
    {
      "cell_type": "code",
      "execution_count": null,
      "metadata": {
        "id": "-iCtk8qGJzEk"
      },
      "outputs": [],
      "source": [
        "w, b = list(lr.parameters())"
      ]
    },
    {
      "cell_type": "code",
      "execution_count": null,
      "metadata": {
        "id": "8cdMryn8wbK6"
      },
      "outputs": [],
      "source": [
        "list(lr.parameters())"
      ]
    },
    {
      "cell_type": "code",
      "execution_count": null,
      "metadata": {
        "id": "WbapoiDoJzBw"
      },
      "outputs": [],
      "source": [
        "plt.scatter(X, y)\n",
        "plt.plot(X, w.detach()*X + b.detach(), '-r')"
      ]
    },
    {
      "cell_type": "markdown",
      "metadata": {
        "id": "dvSUrr1iJy86"
      },
      "source": [
        "### Classification Example"
      ]
    },
    {
      "cell_type": "code",
      "execution_count": null,
      "metadata": {
        "id": "D1PCSOo4O0xJ"
      },
      "outputs": [],
      "source": [
        "from sklearn.datasets import load_breast_cancer"
      ]
    },
    {
      "cell_type": "code",
      "execution_count": null,
      "metadata": {
        "id": "SmgoqfRkm_TM"
      },
      "outputs": [],
      "source": [
        "cancer = load_breast_cancer()"
      ]
    },
    {
      "cell_type": "code",
      "execution_count": null,
      "metadata": {
        "id": "SnR0DzQvm_Ot"
      },
      "outputs": [],
      "source": [
        "X = cancer.data\n",
        "y = cancer.target"
      ]
    },
    {
      "cell_type": "code",
      "execution_count": null,
      "metadata": {
        "id": "erGzXsELnDux"
      },
      "outputs": [],
      "source": [
        "from sklearn.preprocessing import StandardScaler"
      ]
    },
    {
      "cell_type": "code",
      "execution_count": null,
      "metadata": {
        "id": "EK_3KNQXnF_B"
      },
      "outputs": [],
      "source": [
        "sscaler = StandardScaler()\n",
        "X = sscaler.fit_transform(X)"
      ]
    },
    {
      "cell_type": "code",
      "execution_count": null,
      "metadata": {
        "id": "3dGGPQDMYdUe"
      },
      "outputs": [],
      "source": [
        "X.shape"
      ]
    },
    {
      "cell_type": "code",
      "execution_count": null,
      "metadata": {
        "id": "SUQ5_2XEJy51"
      },
      "outputs": [],
      "source": [
        "class Classifier(nn.Module):\n",
        "    def __init__(self):\n",
        "        super().__init__()\n",
        "        self.layer_1 = nn.Linear(30, 32)\n",
        "        self.layer_2 = nn.Linear(32,32)\n",
        "        self.layer_out = nn.Linear(32, 1)\n",
        "        self.relu = nn.ReLU()\n",
        "        self.sigmoid = nn.Sigmoid()\n",
        "\n",
        "    def forward(self, X):\n",
        "        x = self.relu(self.layer_1(X))\n",
        "        x = self.relu(self.layer_2(x))\n",
        "        x = self.layer_out(x)\n",
        "        x = self.sigmoid(x)\n",
        "        return x"
      ]
    },
    {
      "cell_type": "code",
      "execution_count": null,
      "metadata": {
        "id": "YSZNNQBuJy3B"
      },
      "outputs": [],
      "source": [
        "model = Classifier()"
      ]
    },
    {
      "cell_type": "code",
      "execution_count": null,
      "metadata": {
        "id": "hsG4PyBKJy0j"
      },
      "outputs": [],
      "source": [
        "X = torch.from_numpy(X)\n",
        "y = torch.from_numpy(y.reshape(-1, 1))\n",
        "X = X.float()\n",
        "y = y.float()"
      ]
    },
    {
      "cell_type": "code",
      "execution_count": null,
      "metadata": {
        "id": "1NkLHdKlJyx9"
      },
      "outputs": [],
      "source": [
        "def training_loop(n_epochs, optimizer, model, loss_fn, x_train, y_train):\n",
        "    for epoch in range(1, n_epochs + 1):\n",
        "        t_p_train = model(x_train)\n",
        "        loss_train = loss_fn(t_p_train, y_train)\n",
        "        optimizer.zero_grad()\n",
        "        loss_train.backward()\n",
        "        optimizer.step()\n",
        "        if epoch == 1 or epoch % 1000 == 0:\n",
        "            print(epoch, loss_train.item())"
      ]
    },
    {
      "cell_type": "code",
      "execution_count": null,
      "metadata": {
        "id": "jIqY-skLJyvV"
      },
      "outputs": [],
      "source": [
        "optimizer = torch.optim.SGD(model.parameters(), lr = 0.001)"
      ]
    },
    {
      "cell_type": "code",
      "execution_count": null,
      "metadata": {
        "id": "xLWsphPjJysp"
      },
      "outputs": [],
      "source": [
        "training_loop(n_epochs=5000, optimizer=optimizer, model = model, loss_fn=nn.BCELoss(),\n",
        "             x_train=X, y_train=y)"
      ]
    },
    {
      "cell_type": "code",
      "execution_count": null,
      "metadata": {
        "id": "DRtSBkmFy4GI"
      },
      "outputs": [],
      "source": [
        "model(X)"
      ]
    },
    {
      "cell_type": "code",
      "execution_count": null,
      "metadata": {
        "id": "_bkxjCqmJyp3"
      },
      "outputs": [],
      "source": [
        "preds = np.where(model(X) >= 0.5, 1, 0)"
      ]
    },
    {
      "cell_type": "code",
      "execution_count": null,
      "metadata": {
        "id": "cxNDGe4JJynN"
      },
      "outputs": [],
      "source": [
        "from sklearn.metrics import confusion_matrix, classification_report"
      ]
    },
    {
      "cell_type": "code",
      "execution_count": null,
      "metadata": {
        "id": "xYr1upr5Jykk"
      },
      "outputs": [],
      "source": [
        "confusion_matrix(y, preds)"
      ]
    },
    {
      "cell_type": "code",
      "execution_count": null,
      "metadata": {
        "id": "qHPDraT2dMmp"
      },
      "outputs": [],
      "source": [
        "print(classification_report(y, preds))"
      ]
    },
    {
      "cell_type": "code",
      "execution_count": null,
      "metadata": {
        "id": "HFfNmHuQbm5E"
      },
      "outputs": [],
      "source": [
        "np.unique(y, return_counts = True)"
      ]
    },
    {
      "cell_type": "code",
      "execution_count": null,
      "metadata": {
        "id": "r0SU4m8mcY4r"
      },
      "outputs": [],
      "source": [
        "(192)/(192 + 20)"
      ]
    },
    {
      "cell_type": "code",
      "execution_count": null,
      "metadata": {
        "id": "RTP5W2GFbmsM"
      },
      "outputs": [],
      "source": [
        "357/(357 + 212)"
      ]
    },
    {
      "cell_type": "code",
      "execution_count": null,
      "metadata": {
        "colab": {
          "background_save": true
        },
        "id": "BtRoKDBHb7fF"
      },
      "outputs": [],
      "source": [
        "(195 + 354)/(195 + 354 + 4 + 20)"
      ]
    },
    {
      "cell_type": "markdown",
      "metadata": {
        "id": "2PJ7QFvdH9vv"
      },
      "source": [
        "### Using the `Dataset` and `DataLoader`"
      ]
    },
    {
      "cell_type": "code",
      "execution_count": null,
      "metadata": {
        "id": "ogQoGG_Y8GnJ"
      },
      "outputs": [],
      "source": [
        "class MyData(data.Dataset):\n",
        "  #loads data into class\n",
        "  def __init__(self, X, Y):\n",
        "    self.X = X\n",
        "    self.Y = Y\n",
        "\n",
        "  #determines how many data samples exist\n",
        "  def __len__(self):\n",
        "    return len(self.Y)\n",
        "\n",
        "  #returns the sample based on index\n",
        "  def __getitem__(self, index):\n",
        "    X = self.X[index].float().reshape(-1)\n",
        "    Y = self.Y[index].long()\n",
        "    return X, Y"
      ]
    },
    {
      "cell_type": "code",
      "execution_count": null,
      "metadata": {
        "id": "w63fK-HG-bYb"
      },
      "outputs": [],
      "source": []
    },
    {
      "cell_type": "code",
      "execution_count": null,
      "metadata": {
        "id": "YqtAtCi-8auZ"
      },
      "outputs": [],
      "source": [
        "from sklearn.datasets import make_classification"
      ]
    },
    {
      "cell_type": "code",
      "execution_count": null,
      "metadata": {
        "id": "q6a6bWEL83R0"
      },
      "outputs": [],
      "source": [
        "X, Y = make_classification()"
      ]
    },
    {
      "cell_type": "code",
      "execution_count": null,
      "metadata": {
        "id": "rgI2sY7T9Nbq"
      },
      "outputs": [],
      "source": [
        "from sklearn.model_selection import train_test_split"
      ]
    },
    {
      "cell_type": "code",
      "execution_count": null,
      "metadata": {
        "id": "TNZasP-n9Qoz"
      },
      "outputs": [],
      "source": [
        "X_train, X_test, y_train, y_test = train_test_split(X, Y)"
      ]
    },
    {
      "cell_type": "code",
      "execution_count": null,
      "metadata": {
        "id": "tQQ4MPSf9WiC"
      },
      "outputs": [],
      "source": [
        "train_data = MyData(torch.tensor(X_train),\n",
        "                    torch.tensor(y_train))"
      ]
    },
    {
      "cell_type": "code",
      "execution_count": null,
      "metadata": {
        "id": "zXXdJK_P9bA5"
      },
      "outputs": [],
      "source": [
        "train_loader = DataLoader(train_data,\n",
        "                          shuffle = True,\n",
        "                          batch_size = 64,\n",
        "                          num_workers = 4,\n",
        "                          pin_memory = True)"
      ]
    },
    {
      "cell_type": "code",
      "execution_count": null,
      "metadata": {
        "id": "7kOqrMNH9qyE"
      },
      "outputs": [],
      "source": [
        "train_data.__getitem__(0)"
      ]
    },
    {
      "cell_type": "markdown",
      "metadata": {
        "id": "H7k2JVguIFv-"
      },
      "source": [
        "#### Using built-in datasets"
      ]
    },
    {
      "cell_type": "code",
      "execution_count": null,
      "metadata": {
        "id": "Suknd0L7-nFP"
      },
      "outputs": [],
      "source": [
        "from torchvision import datasets\n",
        "from torchvision.transforms import ToTensor\n",
        "import matplotlib.pyplot as plt"
      ]
    },
    {
      "cell_type": "code",
      "execution_count": null,
      "metadata": {
        "id": "-Wht_F85_hPc"
      },
      "outputs": [],
      "source": [
        "train_data = datasets.FashionMNIST(root = 'data', download = True, transform=ToTensor())"
      ]
    },
    {
      "cell_type": "code",
      "execution_count": null,
      "metadata": {
        "id": "R8o1t1tuAI6c"
      },
      "outputs": [],
      "source": [
        "test_data = datasets.FashionMNIST( root = 'data', train = False, download = True, transform = ToTensor())"
      ]
    },
    {
      "cell_type": "code",
      "execution_count": null,
      "metadata": {
        "id": "b4dHIvh8AkDK"
      },
      "outputs": [],
      "source": [
        "img, label = train_data[0]"
      ]
    },
    {
      "cell_type": "code",
      "execution_count": null,
      "metadata": {
        "id": "GjIURTGuBNFA"
      },
      "outputs": [],
      "source": [
        "plt.imshow(img[0].squeeze(), cmap = 'gray')"
      ]
    },
    {
      "cell_type": "code",
      "execution_count": null,
      "metadata": {
        "id": "2QIgIjIsBqu7"
      },
      "outputs": [],
      "source": [
        "train_dataloader = DataLoader(train_data, batch_size = 20, shuffle = True)\n",
        "test_dataloader = DataLoader(test_data, batch_size = 20, shuffle = False)"
      ]
    },
    {
      "cell_type": "code",
      "execution_count": null,
      "metadata": {
        "id": "CxcIts67BtA_"
      },
      "outputs": [],
      "source": [
        "train_ims, train_labels = next(iter(train_dataloader))"
      ]
    },
    {
      "cell_type": "code",
      "execution_count": null,
      "metadata": {
        "id": "FVBd3DQqfs_V"
      },
      "outputs": [],
      "source": [
        "train_ims.shape"
      ]
    },
    {
      "cell_type": "code",
      "execution_count": null,
      "metadata": {
        "id": "rGM8-oicC54E"
      },
      "outputs": [],
      "source": [
        "plt.imshow(train_ims[0].squeeze(), cmap = 'gray')"
      ]
    },
    {
      "cell_type": "code",
      "execution_count": null,
      "metadata": {
        "id": "Loo5rPLFDXXH"
      },
      "outputs": [],
      "source": [
        "len(train_ims)"
      ]
    },
    {
      "cell_type": "markdown",
      "metadata": {
        "id": "5MjAVIKNIQ-W"
      },
      "source": [
        "#### Creating a custom dataset"
      ]
    },
    {
      "cell_type": "code",
      "execution_count": null,
      "metadata": {
        "id": "RM7zYkgKELWf"
      },
      "outputs": [],
      "source": [
        "train_im_sample = []\n",
        "train_label_sample = []\n",
        "for i in range(20):\n",
        "  train_im_sample.append(train_data[i][0].numpy())\n",
        "  train_label_sample.append(train_data[i][1])"
      ]
    },
    {
      "cell_type": "code",
      "execution_count": null,
      "metadata": {
        "id": "8-cxIoe4Eif0"
      },
      "outputs": [],
      "source": [
        "ims_npy = np.array(train_im_sample)"
      ]
    },
    {
      "cell_type": "code",
      "execution_count": null,
      "metadata": {
        "id": "MTNTNS83E8q6"
      },
      "outputs": [],
      "source": [
        "np.save('ims_npy.npy', ims_npy)"
      ]
    },
    {
      "cell_type": "code",
      "execution_count": null,
      "metadata": {
        "id": "g_CIRpLvFFzR"
      },
      "outputs": [],
      "source": [
        "labels_npy = np.array(train_label_sample)"
      ]
    },
    {
      "cell_type": "code",
      "execution_count": null,
      "metadata": {
        "id": "KBOHlizfFJhz"
      },
      "outputs": [],
      "source": [
        "np.save('labels_npy.npy', labels_npy)"
      ]
    },
    {
      "cell_type": "code",
      "execution_count": null,
      "metadata": {
        "id": "i8ra9AuoFM1z"
      },
      "outputs": [],
      "source": [
        "class CustomImageDataset(Dataset):\n",
        "\n",
        "  def __init__(self, imgs, labels):\n",
        "    self.imgs = np.load(imgs)\n",
        "    self.labels = np.load(labels)\n",
        "\n",
        "  def __len__(self):\n",
        "    return len(self.labels)\n",
        "\n",
        "  def __getitem__(self, index):\n",
        "    im = self.imgs[index]\n",
        "    label = self.labels[index]\n",
        "    return im, label\n"
      ]
    },
    {
      "cell_type": "code",
      "execution_count": null,
      "metadata": {
        "id": "nzNac74-F5SH"
      },
      "outputs": [],
      "source": [
        "train_data_custom = CustomImageDataset('ims_npy.npy', 'labels_npy.npy')"
      ]
    },
    {
      "cell_type": "code",
      "execution_count": null,
      "metadata": {
        "id": "S9zenopmGOwB"
      },
      "outputs": [],
      "source": [
        "train_dataloader = DataLoader(train_data_custom, batch_size = 5, shuffle = True)"
      ]
    },
    {
      "cell_type": "code",
      "execution_count": null,
      "metadata": {
        "id": "q95ek_xaGz0C"
      },
      "outputs": [],
      "source": [
        "train_features, train_labels = next(iter(train_dataloader))\n",
        "print(f\"Feature batch shape: {train_features.size()}\")\n",
        "print(f\"Labels batch shape: {train_labels.size()}\")\n",
        "img = train_features[0].squeeze()\n",
        "label = train_labels[0]\n",
        "plt.imshow(img, cmap=\"gray\")\n",
        "plt.show()\n",
        "print(f\"Label: {label}\")"
      ]
    },
    {
      "cell_type": "markdown",
      "metadata": {
        "id": "QLqJc8XIG3r4"
      },
      "source": [
        "#### Example with `numpy`"
      ]
    },
    {
      "cell_type": "code",
      "execution_count": null,
      "metadata": {
        "id": "RKUHjWdLg3cf"
      },
      "outputs": [],
      "source": [
        "import seaborn as sns"
      ]
    },
    {
      "cell_type": "code",
      "execution_count": null,
      "metadata": {
        "id": "FXrN6jMVhE92"
      },
      "outputs": [],
      "source": [
        "iris = sns.load_dataset('iris')"
      ]
    },
    {
      "cell_type": "code",
      "execution_count": null,
      "metadata": {
        "id": "8Ssl-eGYhHYQ"
      },
      "outputs": [],
      "source": [
        "iris.head()"
      ]
    },
    {
      "cell_type": "code",
      "execution_count": null,
      "metadata": {
        "id": "Z-2XcFOmhabM"
      },
      "outputs": [],
      "source": [
        "iris['species'].value_counts()"
      ]
    },
    {
      "cell_type": "code",
      "execution_count": null,
      "metadata": {
        "id": "losDowAJhIZv"
      },
      "outputs": [],
      "source": [
        "X = iris.drop('species', axis = 1)\n",
        "y = iris['species'].replace({'setosa': 0, 'virginica': 1, 'versicolor': 2})"
      ]
    },
    {
      "cell_type": "code",
      "execution_count": null,
      "metadata": {
        "id": "NsrtfZInhfyL"
      },
      "outputs": [],
      "source": [
        "type(X)"
      ]
    },
    {
      "cell_type": "code",
      "execution_count": null,
      "metadata": {
        "id": "5XPMORzAhgUr"
      },
      "outputs": [],
      "source": [
        "type(y)"
      ]
    },
    {
      "cell_type": "code",
      "execution_count": null,
      "metadata": {
        "id": "DjSfaSulhkWw"
      },
      "outputs": [],
      "source": [
        "class IrisData(Dataset):\n",
        "  def __init__(self, X, y):\n",
        "    self.x = X\n",
        "    self.y = y\n",
        "\n",
        "  def __len__(self):\n",
        "    return len(self.y)\n",
        "\n",
        "  def __getitem__(self, index):\n",
        "    measures = torch.tensor(self.x.iloc[index].values)\n",
        "    label = torch.tensor(self.y.iloc[index].values)\n",
        "    return measures, label"
      ]
    },
    {
      "cell_type": "code",
      "execution_count": null,
      "metadata": {
        "id": "Gk2wNGTpiXNv"
      },
      "outputs": [],
      "source": [
        "train_data = IrisData(X, y)"
      ]
    },
    {
      "cell_type": "code",
      "execution_count": null,
      "metadata": {
        "id": "9t7b01EIiEha"
      },
      "outputs": [],
      "source": [
        "iris_loader = DataLoader(train_data, batch_size = 20)"
      ]
    },
    {
      "cell_type": "code",
      "execution_count": null,
      "metadata": {
        "id": "HxkHzGSfiOIy"
      },
      "outputs": [],
      "source": [
        "class IrisModel(nn.Module):\n",
        "  def __init__(self, X, y):\n",
        "    super().__init__()\n",
        "    self.linear_1 = nn.Linear(in_features = 4, out_features = 32)\n",
        "    self.linear_2 = nn.Linear(in_features = 32, out_features = 3)\n",
        "    self.relu = nn.ReLU()\n",
        "    self.softmax = nn.Softmax()\n",
        "\n",
        "  def forward(self, X):\n",
        "    x = self.relu(self.linear_1(X))\n",
        "    x = self.linear_2(x)\n",
        "    x = self.softmax(x)\n",
        "    return x"
      ]
    },
    {
      "cell_type": "code",
      "execution_count": null,
      "metadata": {
        "id": "9FkwFDoJjC15"
      },
      "outputs": [],
      "source": [
        "iris = IrisModel(X, y)"
      ]
    },
    {
      "cell_type": "code",
      "execution_count": null,
      "metadata": {
        "id": "t1_7qLUJjGxS"
      },
      "outputs": [],
      "source": [
        "iris"
      ]
    },
    {
      "cell_type": "code",
      "execution_count": null,
      "metadata": {
        "id": "Nn953z14jIpi"
      },
      "outputs": [],
      "source": [
        "loss_fn = nn.CrossEntropyLoss()"
      ]
    },
    {
      "cell_type": "code",
      "execution_count": null,
      "metadata": {
        "id": "3XwIwh6mjT5D"
      },
      "outputs": [],
      "source": [
        "optimizer = torch.optim.SGD(iris.parameters(), lr = 0.01)"
      ]
    },
    {
      "cell_type": "code",
      "execution_count": null,
      "metadata": {
        "id": "pcINdkNpjYQQ"
      },
      "outputs": [],
      "source": []
    },
    {
      "cell_type": "code",
      "execution_count": null,
      "metadata": {
        "id": "udqjyak5nIby"
      },
      "outputs": [],
      "source": []
    }
  ],
  "metadata": {
    "accelerator": "GPU",
    "colab": {
      "provenance": [],
      "include_colab_link": true
    },
    "gpuClass": "standard",
    "kernelspec": {
      "display_name": "Python 3",
      "name": "python3"
    },
    "language_info": {
      "name": "python"
    }
  },
  "nbformat": 4,
  "nbformat_minor": 0
}